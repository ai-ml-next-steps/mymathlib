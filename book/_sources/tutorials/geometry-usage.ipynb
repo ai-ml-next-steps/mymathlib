{
 "cells": [
  {
   "cell_type": "markdown",
   "metadata": {},
   "source": [
    "# Geometry API"
   ]
  },
  {
   "cell_type": "code",
   "execution_count": 2,
   "metadata": {},
   "outputs": [
    {
     "name": "stdout",
     "output_type": "stream",
     "text": [
      "Area of radius 2: 12.566370614359172\n"
     ]
    }
   ],
   "source": [
    "from mymathlib import area_of_circle\n",
    "\n",
    "print(\"Area of radius 2:\", area_of_circle(2))\n"
   ]
  }
 ],
 "metadata": {
  "language_info": {
   "name": "python"
  }
 },
 "nbformat": 4,
 "nbformat_minor": 2
}
